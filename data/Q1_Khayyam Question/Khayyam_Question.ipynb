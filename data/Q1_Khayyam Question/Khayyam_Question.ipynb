{
 "cells": [
  {
   "cell_type": "markdown",
   "id": "dbdc01e5-3a03-41b3-9ad1-5231d67d44ea",
   "metadata": {},
   "source": [
    "Prof. Kanti Mardia, a renowned statistician/mathematician who loves the work of the polymath Omar Khayyam, made pioneering contributions in statistics and served as the Head of the Department of Statistics at the University of Leeds. \n",
    "\n",
    "The file `A_Conversation_with_Kanti_Mardia.pdf` contains a conversation with him published in the journal of Statistical Science in the year 2002. Based on this paper, please:\n",
    "\n",
    "a) Determine the number of times the term 'Omar Khayyam' appears in the paper.\n",
    "\n",
    "b) Create a visually appealing word cloud displaying the most frequently used words in the paper (for instance, this can be done using the tomb of Omar Khayyam as the template of the word cloud)."
   ]
  }
 ],
 "metadata": {
  "kernelspec": {
   "display_name": "Python 3 (ipykernel)",
   "language": "python",
   "name": "python3"
  },
  "language_info": {
   "codemirror_mode": {
    "name": "ipython",
    "version": 3
   },
   "file_extension": ".py",
   "mimetype": "text/x-python",
   "name": "python",
   "nbconvert_exporter": "python",
   "pygments_lexer": "ipython3",
   "version": "3.12.2"
  }
 },
 "nbformat": 4,
 "nbformat_minor": 5
}
