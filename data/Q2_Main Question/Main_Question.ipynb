{
 "cells": [
  {
   "cell_type": "markdown",
   "id": "924b2b84-8ff6-4989-9c27-a0c7c10a37d0",
   "metadata": {},
   "source": [
    "Let's discuss the car datasets `2009_honda_accord`, `2009_hyundai_sonata`, and `2009_toyota_corolla`. These datasets contain customer reviews for three different car models from 2009. \n",
    "\n",
    "1. As a stakeholder representing these companies, your objective is to determine which car has acheived the highest customer satisfaction rate among the three.\n",
    "\n",
    "2. Additionally, you want to investigate whether the satisfaction rate for the Honda Accord has significantly improved from 2008 to 2009. To answer this question, you will also need to analyze the dataset `2008_honda_accord`, which consists of customer reviews for the Honda Accord from the year 2008.\n",
    "\n",
    "3. In the end, your final goal is to categorize the customer reviews for the Honda Accord (only those of the year 2008) into $k$ meaningful groups.\n",
    "\n",
    "To answer the above questions, please consider the following points:\n",
    "- a) Obtain the number of comments given in all four reviews and report the results.\n",
    "- b) In the cleaning process, using lemmatization rather than stemming is recommended (Why?)\n",
    "- c) During the cleaning process, you also need to remove numbers and HTML tags e.g. `<DOC>, <TEXT>, <AUTHOR>` and similar elements.\n",
    "- d)  The first two questions can be solved using sentiment analysis techniques.\n",
    "- e) Create appropriate `wordcloud`s for each part to visualize the most frequent words in the reviews.\n",
    "- f) Determine the optimal value of $k$ in Question 3.\n",
    "- g) (_optional_) Feel free to obtain any other relevant outputs, such as evaluation metrics or additional plots.\n",
    "- h) (_optional_) If you found that the algorithm used in Question 3 does not provide satisfactory performance, you can try incorporating \n",
    "     the datasets `2008_honda_accord` and `2009_honda_accord` to cluster the reviews again, aiming for better results."
   ]
  },
  {
   "cell_type": "code",
   "execution_count": null,
   "id": "dac13906",
   "metadata": {
    "vscode": {
     "languageId": "plaintext"
    }
   },
   "outputs": [],
   "source": []
  },
  {
   "cell_type": "markdown",
   "id": "3173f161-578d-4f17-bcd8-755d22e20101",
   "metadata": {},
   "source": [
    "**Good luck**"
   ]
  },
  {
   "cell_type": "markdown",
   "id": "aa6610af-c35c-4459-a17b-42ac71deaed2",
   "metadata": {},
   "source": [
    "1403/02/18"
   ]
  }
 ],
 "metadata": {
  "kernelspec": {
   "display_name": "Python 3 (ipykernel)",
   "language": "python",
   "name": "python3"
  },
  "language_info": {
   "codemirror_mode": {
    "name": "ipython",
    "version": 3
   },
   "file_extension": ".py",
   "mimetype": "text/x-python",
   "name": "python",
   "nbconvert_exporter": "python",
   "pygments_lexer": "ipython3",
   "version": "3.11.7"
  }
 },
 "nbformat": 4,
 "nbformat_minor": 5
}
